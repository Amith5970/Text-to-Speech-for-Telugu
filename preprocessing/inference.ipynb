{
 "cells": [
  {
   "cell_type": "code",
   "execution_count": null,
   "metadata": {},
   "outputs": [],
   "source": [
    "import pandas as pd\n",
    "import subprocess\n",
    "\n",
    "# Load the metadata CSV file\n",
    "metadata_path = 'D:/THESIS/TTS_40HRS/Telugu_M/Telugu_M/metadata_100.csv'\n",
    "metadata = pd.read_csv(metadata_path, delimiter='|', header=None)\n",
    "\n",
    "# Define the model and configuration paths\n",
    "models = [\n",
    "\n",
    "    {\n",
    "        \"model_path\": \"D:/THESIS/fastspeech2/models/best_model.pth\",\n",
    "        \"config_path\": \"D:/THESIS/fastspeech2/models/config.json\",\n",
    "        \"out_dir\": \"D:/THESIS/fastspeech2/TEST-FILES/\"\n",
    "    }\n",
    "]\n",
    "\n",
    "# Define vocoder paths\n",
    "vocoder_path = \"D:/THESIS/HIFIGAN/models/checkpoint_450000.pth\"\n",
    "vocoder_config_path = \"D:/THESIS/HIFIGAN/models/config.json\"\n",
    "\n",
    "# Function to run TTS commands\n",
    "def run_tts(text, model, output):\n",
    "    command = [\n",
    "        \"tts\",\n",
    "        \"--text\", text,\n",
    "        \"--model_path\", model[\"model_path\"],\n",
    "        \"--config_path\", model[\"config_path\"],\n",
    "        \"--out_path\", output\n",
    "    ]\n",
    "    # Add vocoder paths if not VITS model\n",
    "    if \"fastspeech2\" in model[\"model_path\"].lower() or \"fastpitch\" in model[\"model_path\"].lower():\n",
    "        command.extend([\n",
    "            \"--vocoder_path\", vocoder_path,\n",
    "            \"--vocoder_config_path\", vocoder_config_path\n",
    "        ])\n",
    "    \n",
    "    subprocess.run(command)\n",
    "\n",
    "\n"
   ]
  },
  {
   "cell_type": "code",
   "execution_count": null,
   "metadata": {},
   "outputs": [],
   "source": [
    "import os\n",
    "for index, row in metadata.iterrows():\n",
    "    filename = row[0]\n",
    "    text_content = row[1]\n",
    "    print(filename)\n",
    "    print(text_content)\n",
    "    \n",
    "    for model in models:\n",
    "        output_file = os.path.join(model[\"out_dir\"], filename)\n",
    "        run_tts(text_content, model, output_file)\n"
   ]
  },
  {
   "cell_type": "code",
   "execution_count": null,
   "metadata": {},
   "outputs": [],
   "source": [
    "\n"
   ]
  },
  {
   "cell_type": "code",
   "execution_count": null,
   "metadata": {},
   "outputs": [],
   "source": []
  },
  {
   "cell_type": "code",
   "execution_count": 9,
   "metadata": {},
   "outputs": [
    {
     "name": "stderr",
     "output_type": "stream",
     "text": [
      "C:\\Users\\Amith\\AppData\\Roaming\\Python\\Python39\\site-packages\\matplotlib\\projections\\__init__.py:63: UserWarning: Unable to import Axes3D. This may be due to multiple versions of Matplotlib being installed (e.g. as a system package and as a pip package). As a result, the 3D projection is not available.\n",
      "  warnings.warn(\"Unable to import Axes3D. This may be due to multiple versions of \"\n"
     ]
    },
    {
     "ename": "TypeError",
     "evalue": "__init__() got an unexpected keyword argument 'model_path'",
     "output_type": "error",
     "traceback": [
      "\u001b[1;31m---------------------------------------------------------------------------\u001b[0m",
      "\u001b[1;31mTypeError\u001b[0m                                 Traceback (most recent call last)",
      "Input \u001b[1;32mIn [9]\u001b[0m, in \u001b[0;36m<cell line: 3>\u001b[1;34m()\u001b[0m\n\u001b[0;32m      1\u001b[0m \u001b[38;5;28;01mfrom\u001b[39;00m \u001b[38;5;21;01mTTS\u001b[39;00m\u001b[38;5;21;01m.\u001b[39;00m\u001b[38;5;21;01mutils\u001b[39;00m\u001b[38;5;21;01m.\u001b[39;00m\u001b[38;5;21;01msynthesizer\u001b[39;00m \u001b[38;5;28;01mimport\u001b[39;00m Synthesizer\n\u001b[1;32m----> 3\u001b[0m synthesizer \u001b[38;5;241m=\u001b[39m \u001b[43mSynthesizer\u001b[49m\u001b[43m(\u001b[49m\n\u001b[0;32m      4\u001b[0m \u001b[43m    \u001b[49m\u001b[43mmodel_path\u001b[49m\u001b[38;5;241;43m=\u001b[39;49m\u001b[38;5;124;43m\"\u001b[39;49m\u001b[38;5;124;43mD:/THESIS/fastspeech2/models/best_model.pth\u001b[39;49m\u001b[38;5;124;43m\"\u001b[39;49m\u001b[43m,\u001b[49m\n\u001b[0;32m      5\u001b[0m \u001b[43m    \u001b[49m\u001b[43mconfig_path\u001b[49m\u001b[38;5;241;43m=\u001b[39;49m\u001b[38;5;124;43m\"\u001b[39;49m\u001b[38;5;124;43mD:/THESIS/fastspeech2/models/config.json\u001b[39;49m\u001b[38;5;124;43m\"\u001b[39;49m\u001b[43m,\u001b[49m\n\u001b[0;32m      6\u001b[0m \u001b[43m    \u001b[49m\u001b[43mvocoder_path\u001b[49m\u001b[38;5;241;43m=\u001b[39;49m\u001b[38;5;124;43m\"\u001b[39;49m\u001b[38;5;124;43mD:/THESIS/HIFIGAN/models/checkpoint_450000.pth\u001b[39;49m\u001b[38;5;124;43m\"\u001b[39;49m\u001b[43m,\u001b[49m\n\u001b[0;32m      7\u001b[0m \u001b[43m    \u001b[49m\u001b[43mvocoder_config_path\u001b[49m\u001b[38;5;241;43m=\u001b[39;49m\u001b[38;5;124;43m\"\u001b[39;49m\u001b[38;5;124;43mD:/THESIS/HIFIGAN/models/config.json\u001b[39;49m\u001b[38;5;124;43m\"\u001b[39;49m\u001b[43m,\u001b[49m\n\u001b[0;32m      8\u001b[0m \u001b[43m)\u001b[49m\n\u001b[0;32m     10\u001b[0m wav \u001b[38;5;241m=\u001b[39m synthesizer\u001b[38;5;241m.\u001b[39mtts(\u001b[38;5;124m\"\u001b[39m\u001b[38;5;124mపెబ్బేరు ఆరుగాలం శ్రమించి పండించిన ఉల్లి పంట చేతికోచ్చి తమ కష్టాలు తీరుతాయని రైతు సంబర పడ్డారు\u001b[39m\u001b[38;5;124m\"\u001b[39m)\n\u001b[0;32m     11\u001b[0m synthesizer\u001b[38;5;241m.\u001b[39msave_wav(wav, \u001b[38;5;124m\"\u001b[39m\u001b[38;5;124mD:/THESIS/fastspeech2/TEST-FILES/Test/output1.wav\u001b[39m\u001b[38;5;124m\"\u001b[39m)\n",
      "\u001b[1;31mTypeError\u001b[0m: __init__() got an unexpected keyword argument 'model_path'"
     ]
    }
   ],
   "source": [
    "from TTS.utils.synthesizer import Synthesizer\n",
    "\n",
    "synthesizer = Synthesizer(\n",
    "    model_path=\"D:/THESIS/fastspeech2/models/best_model.pth\",\n",
    "    config_path=\"D:/THESIS/fastspeech2/models/config.json\",\n",
    "    vocoder_path=\"D:/THESIS/HIFIGAN/models/checkpoint_450000.pth\",\n",
    "    vocoder_config_path=\"D:/THESIS/HIFIGAN/models/config.json\",\n",
    ")\n",
    "\n",
    "wav = synthesizer.tts(\"పెబ్బేరు ఆరుగాలం శ్రమించి పండించిన ఉల్లి పంట చేతికోచ్చి తమ కష్టాలు తీరుతాయని రైతు సంబర పడ్డారు\")\n",
    "synthesizer.save_wav(wav, \"D:/THESIS/fastspeech2/TEST-FILES/Test/output1.wav\")\n"
   ]
  },
  {
   "cell_type": "code",
   "execution_count": null,
   "metadata": {},
   "outputs": [],
   "source": [
    "python -m tts --text \"పెబ్బేరు ఆరుగాలం శ్రమించి పండించిన ఉల్లి పంట చేతికోచ్చి తమ కష్టాలు తీరుతాయని రైతు సంబర పడ్డారు\" \\\n",
    "    --model_path \"D:/THESIS/fastspeech2/models/best_model.pth\" \\\n",
    "    --config_path \"D:/THESIS/fastspeech2/models/config.json\" \\\n",
    "    --out_path \"D:/THESIS/fastspeech2/TEST-FILES/Test/output1.wav\" \\\n",
    "    --vocoder_path \"D:/THESIS/HIFIGAN/models/checkpoint_450000.pth\" \\\n",
    "    --vocoder_config_path \"D:/THESIS/HIFIGAN/models/config.json\""
   ]
  }
 ],
 "metadata": {
  "kernelspec": {
   "display_name": "base",
   "language": "python",
   "name": "python3"
  },
  "language_info": {
   "codemirror_mode": {
    "name": "ipython",
    "version": 3
   },
   "file_extension": ".py",
   "mimetype": "text/x-python",
   "name": "python",
   "nbconvert_exporter": "python",
   "pygments_lexer": "ipython3",
   "version": "3.9.12"
  }
 },
 "nbformat": 4,
 "nbformat_minor": 2
}
